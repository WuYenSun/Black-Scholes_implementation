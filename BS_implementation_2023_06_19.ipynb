{
  "nbformat": 4,
  "nbformat_minor": 0,
  "metadata": {
    "colab": {
      "provenance": []
    },
    "kernelspec": {
      "name": "python3",
      "display_name": "Python 3"
    },
    "language_info": {
      "name": "python"
    }
  },
  "cells": [
    {
      "cell_type": "code",
      "source": [
        "import numpy as np\n",
        "from scipy import integrate\n",
        "from scipy.stats import norm, lognorm\n",
        "\n",
        "# Parameters\n",
        "stock_price = 100.0\n",
        "strike_price = 95.0\n",
        "risk_free_rate = 0.05\n",
        "time_to_maturity = 0.5\n",
        "volatility = 0.2\n",
        "num_mc_simulations = int(1e6)"
      ],
      "metadata": {
        "id": "hz1lujfj8eue"
      },
      "execution_count": 1,
      "outputs": []
    },
    {
      "cell_type": "markdown",
      "source": [
        "## Black-Scholes formula\n",
        "The **BS formula** for a call and put are:\n",
        "\n",
        "$ C(S,K,r,T,\\sigma) = SN(d_1) - Ke^{-rT}N(d_2) $\n",
        "\n",
        "$ P(S,K,r,T,\\sigma) = Ke^{-rT}N(-d_2) - SN(-d_1) $\n",
        "\n",
        "where\n",
        "\n",
        "$ d_1 = \\frac{1}{\\sigma\\sqrt{T}} \\biggr[ \\log \\biggl( \\frac{S}{K} \\biggr) + \\biggl( r + \\frac{\\sigma^2}{2} \\biggr) T \\biggr] $\n",
        "\n",
        "$ d_2 = d_1 - \\sigma\\sqrt{T} $"
      ],
      "metadata": {
        "id": "cA-pfMJDLf_y"
      }
    },
    {
      "cell_type": "code",
      "execution_count": 2,
      "metadata": {
        "colab": {
          "base_uri": "https://localhost:8080/"
        },
        "id": "VNvX6Xs08b3d",
        "outputId": "ea36363a-9305-4418-bc6b-c9060fa70063"
      },
      "outputs": [
        {
          "output_type": "stream",
          "name": "stdout",
          "text": [
            "Call option price (BS):9.8727\n",
            "Put option price (BS):2.5272\n"
          ]
        }
      ],
      "source": [
        "def black_scholes(S, K, r, T, sigma, option_type):\n",
        "    d1 = (np.log(S / K) + (r + 0.5 * sigma ** 2) * T) / (sigma * np.sqrt(T))\n",
        "    d2 = d1 - sigma * np.sqrt(T)\n",
        "\n",
        "    if option_type == 'call':\n",
        "        option_price = S * norm.cdf(d1) - K * np.exp(-r * T) * norm.cdf(d2)\n",
        "    elif option_type == 'put':\n",
        "        option_price = K * np.exp(-r * T) * norm.cdf(-d2) - S * norm.cdf(-d1)\n",
        "\n",
        "    return option_price\n",
        "\n",
        "call_BS = black_scholes(stock_price, strike_price, risk_free_rate,\n",
        "                                  time_to_maturity, volatility, 'call')\n",
        "put_BS = black_scholes(stock_price, strike_price, risk_free_rate,\n",
        "                                 time_to_maturity, volatility, 'put')\n",
        "\n",
        "print(f'Call option price (BS):{call_BS:.4f}')\n",
        "print(f'Put option price (BS):{put_BS:.4f}')"
      ]
    },
    {
      "cell_type": "markdown",
      "source": [
        "## Monte Carlo simulation\n",
        "\n",
        "The arbitrage-free value of an option can be obtained through risk-neutral pricing approah:\n",
        "\n",
        "$ C(S,K,r,T,\\sigma) = \\mathbb{E}^{\\mathbb{Q}} \\biggl[ e^{-rT}(S_T - K)^+\\  \\bigg| \\ S \\biggr] $\n",
        "\n",
        "$ P(S,K,r,T,\\sigma) = \\mathbb{E}^{\\mathbb{Q}} \\biggl[ e^{-rT}(K - S_T)^+\\  \\bigg| \\ S \\biggr] $\n",
        "\n",
        "Under the risk-neutral measure $\\mathbb{Q}$, the underlying $S_t$ grows at a risk-free rate $r$:\n",
        "\n",
        "$ S_T = Se^{(r \\ -\\frac{\\sigma^2}{2})T + \\sigma W_{T} } $"
      ],
      "metadata": {
        "id": "6Gi0K1mVPDfO"
      }
    },
    {
      "cell_type": "code",
      "source": [
        "def monte_carlo(S, K, r, T, sigma, option_type, num_simulations):\n",
        "\n",
        "    # Generate random price paths\n",
        "    drift = (r - 0.5 * sigma ** 2) * T\n",
        "    diffusion = sigma * np.sqrt(T) * np.random.standard_normal(num_simulations)\n",
        "    prices = S * np.exp(drift + diffusion)\n",
        "\n",
        "    if option_type == 'call':\n",
        "        payoffs = np.maximum(prices - K, 0)\n",
        "    elif option_type == 'put':\n",
        "        payoffs = np.maximum(K - prices, 0)\n",
        "\n",
        "    dis_payoffs = np.exp(-r * T) * payoffs\n",
        "    option_price = np.mean(dis_payoffs)\n",
        "\n",
        "    # Calculate estimated standard error\n",
        "    standard_error = np.sqrt(np.var(dis_payoffs) / num_simulations)\n",
        "\n",
        "    return option_price, standard_error\n",
        "\n",
        "call_MC, call_standard_error = monte_carlo(stock_price, strike_price, risk_free_rate,\n",
        "                                  time_to_maturity, volatility, 'call',num_mc_simulations)\n",
        "put_MC, put_standard_error = monte_carlo(stock_price, strike_price, risk_free_rate,\n",
        "                                 time_to_maturity, volatility, 'put',num_mc_simulations)\n",
        "\n",
        "print(f'Call option price (MC):{call_MC:.4f}')\n",
        "print(f'Estimated standard error:{call_standard_error:.8f}')\n",
        "print(f'Put option price (MC):{put_MC:.4f}')\n",
        "print(f'Estimated standard error:{put_standard_error:.8f}')"
      ],
      "metadata": {
        "colab": {
          "base_uri": "https://localhost:8080/"
        },
        "id": "J9OzT6m888TU",
        "outputId": "9b3a1cfe-06ac-4d37-c31b-2e8a388ad799"
      },
      "execution_count": 3,
      "outputs": [
        {
          "output_type": "stream",
          "name": "stdout",
          "text": [
            "Call option price (MC):9.8690\n",
            "Estimated standard error:0.01125931\n",
            "Put option price (MC):2.5308\n",
            "Estimated standard error:0.00501965\n"
          ]
        }
      ]
    },
    {
      "cell_type": "markdown",
      "source": [
        "## Numerical integration\n",
        "Notice that $S_T \\sim \\text{Log-Normal}( \\ (r -\\frac{\\sigma^2}{2})T,\\  \\sigma^2T\\ )$ under the risk-neutral measure $\\mathbb{Q}$."
      ],
      "metadata": {
        "id": "HYfyqSsBUG9q"
      }
    },
    {
      "cell_type": "code",
      "source": [
        "def numerical_integration(S, K, r, T, sigma, option_type):\n",
        "  mu = np.log(S) + ( r - 0.5*sigma**2 ) * T\n",
        "  sig = sigma * np.sqrt(T)\n",
        "\n",
        "  if option_type == 'call':\n",
        "        f_c = lambda s: np.exp(-r*T)*(s-K)*lognorm.pdf(s, sig, scale=np.exp(mu))\n",
        "        return integrate.quad(f_c, K, np.inf)[0]\n",
        "  elif option_type == 'put':\n",
        "        f_p = lambda s: np.exp(-r*T)*max(K-s,0)*lognorm.pdf(s, sig, scale=np.exp(mu))\n",
        "        return integrate.quad(f_p, 0, K)[0]\n",
        "\n",
        "call_integration = numerical_integration(stock_price, strike_price, risk_free_rate,\n",
        "                                time_to_maturity, volatility, 'call')\n",
        "put_integration = numerical_integration(stock_price, strike_price, risk_free_rate,\n",
        "                                time_to_maturity, volatility, 'put')\n",
        "\n",
        "print(f'Call option price (int):{call_integration:.4f}')\n",
        "print(f'Put option price (int):{put_integration:.4f}')\n"
      ],
      "metadata": {
        "id": "vUtoFXR6-pO0",
        "colab": {
          "base_uri": "https://localhost:8080/"
        },
        "outputId": "ac310006-809e-4d82-b9ed-4adee19b10af"
      },
      "execution_count": 4,
      "outputs": [
        {
          "output_type": "stream",
          "name": "stdout",
          "text": [
            "Call option price (int):9.8727\n",
            "Put option price (int):2.5272\n"
          ]
        }
      ]
    },
    {
      "cell_type": "markdown",
      "source": [
        "## Technical Note - $N(d_1)$ and $N(d_2)$\n",
        "\n",
        "$N(d_1)$ and $N(d_2)$ are the risk-neutral probabilities of $S_T > K$ under the stock and money market account numeraires, respectively. To see this:\n",
        "\n",
        "\\begin{align*}\n",
        " C(S,K,r,T,\\sigma) &= \\mathbb{E}^{\\mathbb{Q}} \\biggl[ e^{-rT}(S_T - K)^+\\  \\bigg| \\ S \\biggr] \\\\\n",
        "                    &= \\mathbb{E}^{\\mathbb{Q}}\\biggl[ e^{-rT}S_T \\mathbb{1}_{S_T >K}\\ \\bigg|\\ S \\biggr] - Ke^{-rT} \\mathbb{E}^{\\mathbb{Q}}\\biggl[\\mathbb{1}_{S_T >K}\\ \\bigg|\\ S \\biggr] \\\\\n",
        "                    &= S \\mathbb{E}^{\\mathbb{\\tilde{Q}}}\\biggl[\\mathbb{1}_{S_T >K}\\ \\bigg|\\ S \\biggr] - Ke^{-rT} \\mathbb{E}^{\\mathbb{Q}}\\biggl[\\mathbb{1}_{S_T >K}\\ \\bigg|\\ S \\biggr] \\\\\n",
        "                    &= SN(d_1)-Ke^{-rT}N(d_2)\n",
        "\\end{align*}\n",
        "\n",
        "where the measure $\\mathbb{\\tilde{Q}}$ (in which $S_t$ becomes the numeraire) is defined as:\n",
        "\n",
        "$$ \\frac{d \\tilde{\\mathbb{Q}} }{ d \\mathbb{Q} } =  \\frac{S_Te^{r0}}{S e^{rT}} $$\n"
      ],
      "metadata": {
        "id": "9iU2NU8Za4Ma"
      }
    }
  ]
}