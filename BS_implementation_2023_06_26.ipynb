{
  "nbformat": 4,
  "nbformat_minor": 0,
  "metadata": {
    "colab": {
      "provenance": []
    },
    "kernelspec": {
      "name": "python3",
      "display_name": "Python 3"
    },
    "language_info": {
      "name": "python"
    }
  },
  "cells": [
    {
      "cell_type": "code",
      "source": [
        "import numpy as np\n",
        "from scipy import integrate\n",
        "from scipy.stats import norm, lognorm\n",
        "\n",
        "# Parameters\n",
        "stock_price = 100.0\n",
        "strike_price = 95.0\n",
        "risk_free_rate = 0.05\n",
        "time_to_maturity = 0.5\n",
        "volatility = 0.2\n",
        "num_mc_simulations = int(1e7)"
      ],
      "metadata": {
        "id": "hz1lujfj8eue"
      },
      "execution_count": 1,
      "outputs": []
    },
    {
      "cell_type": "markdown",
      "source": [
        "## Black-Scholes formula\n",
        "The Black-Scholes formula for call and put option are:\n",
        "\n",
        "\\begin{align*}\n",
        "C(S,K,r,T,\\sigma) &= SN(d_1) - Ke^{-rT}N(d_2) \\\\\n",
        "P(S,K,r,T,\\sigma) &= Ke^{-rT}N(-d_2) - SN(-d_1) \\\\  \n",
        "&= Ke^{-rT}(1-N(d_2)) - S(1-N(d_1))\n",
        "\\end{align*}\n",
        "where\n",
        "\\begin{align*}\n",
        "d_1 &= \\frac{1}{\\sigma \\sqrt{T}}\\biggr[ \\log \\biggl( \\frac{S}{K} \\biggr) + \\biggl( r + \\frac{\\sigma^2}{2} \\biggr) T \\biggr]\\\\\n",
        "d_2 &= d_1 - \\sigma\\sqrt{T}\n",
        "\\end{align*}"
      ],
      "metadata": {
        "id": "cA-pfMJDLf_y"
      }
    },
    {
      "cell_type": "code",
      "execution_count": 2,
      "metadata": {
        "colab": {
          "base_uri": "https://localhost:8080/"
        },
        "id": "VNvX6Xs08b3d",
        "outputId": "5d629bcf-cc82-4d7e-82a3-b1e513da107d"
      },
      "outputs": [
        {
          "output_type": "stream",
          "name": "stdout",
          "text": [
            "Call option price (BS):9.8727\n",
            "Put option price (BS):2.5272\n"
          ]
        }
      ],
      "source": [
        "def black_scholes(S, K, r, T, sigma, option_type):\n",
        "    d1 = (np.log(S / K) + (r + 0.5 * sigma ** 2) * T) / (sigma * np.sqrt(T))\n",
        "    d2 = d1 - sigma * np.sqrt(T)\n",
        "    Q1 = norm.cdf(d1)\n",
        "    Q2 = norm.cdf(d2)\n",
        "\n",
        "    if option_type == 'call':\n",
        "        option_price = S * Q1 - K * np.exp(-r * T) * Q2\n",
        "    elif option_type == 'put':\n",
        "        option_price = K * np.exp(-r * T) * (1-Q2) - S * (1-Q1)\n",
        "\n",
        "    return option_price\n",
        "\n",
        "call_BS = black_scholes(stock_price, strike_price, risk_free_rate,\n",
        "                                  time_to_maturity, volatility, 'call')\n",
        "put_BS = black_scholes(stock_price, strike_price, risk_free_rate,\n",
        "                                 time_to_maturity, volatility, 'put')\n",
        "\n",
        "print(f'Call option price (BS):{call_BS:.4f}')\n",
        "print(f'Put option price (BS):{put_BS:.4f}')"
      ]
    },
    {
      "cell_type": "markdown",
      "source": [
        "## Monte Carlo simulation\n",
        "\n",
        "The arbitrage-free values can be obtained through risk-neutral pricing approah:\n",
        "\\begin{align*}\n",
        "& C(S,K,r,T,\\sigma) = \\mathbb{E}^{\\mathbb{Q}} \\biggl[ e^{-rT}(S_T - K)^+\\  \\bigg| \\ S \\biggr]\\\\\n",
        "&P(S,K,r,T,\\sigma) = \\mathbb{E}^{\\mathbb{Q}} \\biggl[ e^{-rT}(K - S_T)^+\\  \\bigg| \\ S \\biggr]\n",
        "\\end{align*}\n",
        "Under the risk-neutral measure $\\mathbb{Q}$, the underlying $S_t$ grows at a risk-free rate $r$ with diffusion:\n",
        "\n",
        "\\begin{align*}\n",
        "dS_t = rS_tdt + \\sigma S_tdW_t\n",
        "\\end{align*}"
      ],
      "metadata": {
        "id": "6Gi0K1mVPDfO"
      }
    },
    {
      "cell_type": "code",
      "source": [
        "def monte_carlo(S, K, r, T, sigma, option_type, num_simulations):\n",
        "\n",
        "    # Generate random price paths\n",
        "    drift = (r - 0.5 * sigma ** 2) * T\n",
        "    diffusion = sigma * np.sqrt(T) * np.random.standard_normal(num_simulations)\n",
        "    prices = S * np.exp(drift + diffusion)\n",
        "\n",
        "    if option_type == 'call':\n",
        "        payoffs = np.maximum(prices - K, 0)\n",
        "    elif option_type == 'put':\n",
        "        payoffs = np.maximum(K - prices, 0)\n",
        "\n",
        "    dis_payoffs = np.exp(-r * T) * payoffs\n",
        "    option_price = np.mean(dis_payoffs)\n",
        "\n",
        "    # Calculate estimated standard error\n",
        "    standard_error = np.sqrt(np.var(dis_payoffs) / num_simulations)\n",
        "\n",
        "    return option_price, standard_error\n",
        "\n",
        "call_MC, call_standard_error = monte_carlo(stock_price, strike_price, risk_free_rate,\n",
        "                                  time_to_maturity, volatility, 'call',num_mc_simulations)\n",
        "put_MC, put_standard_error = monte_carlo(stock_price, strike_price, risk_free_rate,\n",
        "                                 time_to_maturity, volatility, 'put',num_mc_simulations)\n",
        "\n",
        "print(f'Call option price (MC):{call_MC:.4f}')\n",
        "print(f'Estimated standard error:{call_standard_error:.8f}')\n",
        "print(f'Put option price (MC):{put_MC:.4f}')\n",
        "print(f'Estimated standard error:{put_standard_error:.8f}')"
      ],
      "metadata": {
        "colab": {
          "base_uri": "https://localhost:8080/"
        },
        "id": "J9OzT6m888TU",
        "outputId": "50ef600c-a7a4-47db-91c1-2fdb90539845"
      },
      "execution_count": 3,
      "outputs": [
        {
          "output_type": "stream",
          "name": "stdout",
          "text": [
            "Call option price (MC):9.8788\n",
            "Estimated standard error:0.00356299\n",
            "Put option price (MC):2.5259\n",
            "Estimated standard error:0.00158613\n"
          ]
        }
      ]
    },
    {
      "cell_type": "markdown",
      "source": [
        "## Numerical integration\n",
        "Recall that $S_T \\sim \\text{Log-Normal}( \\ (r -\\frac{\\sigma^2}{2})T,\\  \\sigma^2T\\ )$ under the risk-neutral measure $\\mathbb{Q}$. Hence, we can evaluate the expectation through numerical integration. Let $f$ denote the probability density function of the lognoraml random variabel $S_T$.\n",
        "\n",
        "\\begin{align*}\n",
        "&C(S,K,r,T,\\sigma) = \\mathbb{E}^{\\mathbb{Q}} \\biggl[ e^{-rT}(S_T - K)^+\\  \\bigg| \\ S \\biggr]  = \\int_k^\\infty e^{-rT}(s_T - K) f(s_T)ds_T\\\\\n",
        "&P(S,K,r,T,\\sigma) = \\mathbb{E}^{\\mathbb{Q}} \\biggl[ e^{-rT}(K - S_T)^+\\  \\bigg| \\ S \\biggr] = \\int_0^k e^{-rT}(K - s_T) f(s_T)ds_T\n",
        "\\end{align*}"
      ],
      "metadata": {
        "id": "HYfyqSsBUG9q"
      }
    },
    {
      "cell_type": "code",
      "source": [
        "def numerical_integration(S, K, r, T, sigma, option_type):\n",
        "  mu = np.log(S) + ( r - 0.5*sigma**2 ) * T\n",
        "  sig = sigma * np.sqrt(T)\n",
        "\n",
        "  if option_type == 'call':\n",
        "        f_c = lambda s: np.exp(-r*T) * (s-K) * lognorm.pdf(s, sig, scale=np.exp(mu))\n",
        "        return integrate.quad(f_c, K, np.inf)[0]\n",
        "  elif option_type == 'put':\n",
        "        f_p = lambda s: np.exp(-r*T) * (K-s) * lognorm.pdf(s, sig, scale=np.exp(mu))\n",
        "        return integrate.quad(f_p, 0, K)[0]\n",
        "\n",
        "call_integration = numerical_integration(stock_price, strike_price, risk_free_rate,\n",
        "                                time_to_maturity, volatility, 'call')\n",
        "put_integration = numerical_integration(stock_price, strike_price, risk_free_rate,\n",
        "                                time_to_maturity, volatility, 'put')\n",
        "\n",
        "print(f'Call option price (int):{call_integration:.4f}')\n",
        "print(f'Put option price (int):{put_integration:.4f}')\n"
      ],
      "metadata": {
        "id": "vUtoFXR6-pO0",
        "colab": {
          "base_uri": "https://localhost:8080/"
        },
        "outputId": "088afe69-3ff6-403a-f00d-20a7587df023"
      },
      "execution_count": 4,
      "outputs": [
        {
          "output_type": "stream",
          "name": "stdout",
          "text": [
            "Call option price (int):9.8727\n",
            "Put option price (int):2.5272\n"
          ]
        }
      ]
    },
    {
      "cell_type": "markdown",
      "source": [
        "## Fourier inversion\n",
        "\n",
        "\n",
        "\\begin{align*}\n",
        "C(S,K,r,T,\\sigma) &= \\mathbb{E}^{\\mathbb{Q}}\\biggl[e^{-rT}(S_T - K)^+\\bigg|\\ S\\biggr]\\\\  \n",
        "                  &= \\int_\\mathbb{\\Omega} s_Te^{-rT}\\mathbb{1}_{\\{s_T>K\\}}d\\mathbb{Q} - Ke^{-rT}\\mathbb{Q}(S_T>K)\\\\\n",
        "                  &= S\\tilde{\\mathbb{Q}}{\\{S_T>K\\}} - Ke^{-rT}\\mathbb{Q}(S_T>K)\\\\\n",
        "                  &= SQ_1 - Ke^{-rT}Q_2\\\\\n",
        "P(S,K,r,T,\\sigma) &= Ke^{-rT}(1-Q_2) - S(1-Q_1)\\\\\n",
        "                  \\textit{where }& \\frac{d\\tilde{\\mathbb{Q}}}{d\\mathbb{Q}} = \\frac{S_t}{Se^{rt}}\\textit{, }Q_1 := \\tilde{\\mathbb{Q}}{\\{S_T>K\\}}\\textit{, }Q_2 := \\mathbb{Q}(S_T>K)\n",
        "\\end{align*}\n",
        "\n",
        "Gil Pelaez formula, arised from Fourier inversion theorem, connects probability with it Fourier dual:\n",
        "\n",
        "\\begin{align*}\n",
        "k :=& log(\\frac{K}{S})\\\\\n",
        "X :=& log(\\frac{S_T}{S}) \\sim \\text{Normal}( \\ (r -\\frac{\\sigma^2}{2})T,\\  \\sigma^2T\\ ) \\text{ under } \\mathbb{Q}\\\\\n",
        "Q1 :=& \\tilde{Q}{\\{S_T>K\\}} = \\tilde{Q}{\\{X>k\\}}\\\\\n",
        "    =& \\frac{1}{2} + \\frac{1}{\\pi} \\int_0^{\\infty} Re\\biggl[ \\frac{ e^{-iuk} \\phi_X(u-i)}{iu \\, \\phi_X(-i)} \\biggr] du\\\\\n",
        "Q2 :=& Q{\\{S_T>K\\}} \\\\\n",
        "    =& \\frac{1}{2} + \\frac{1}{\\pi} \\int_0^{\\infty} Re\\biggl[ \\frac{ e^{-iuk} \\phi_X(u)}{iu} \\biggr] du\\\\\n",
        "    \\textit{where }& \\phi_X(u) = E^{\\mathbb{Q}}[e^{iuX}]\n",
        "\\end{align*}\n"
      ],
      "metadata": {
        "id": "L_50CVXWI-8B"
      }
    },
    {
      "cell_type": "code",
      "source": [
        "def fourier_inversion(S, K, r, T, sigma, option_type):\n",
        "    k = np.log(K/S)\n",
        "    cf = lambda u: np.exp( 1j * u * (r - 0.5 * sigma**2) * T\n",
        "                          - 0.5 * u**2 * T * sigma**2 )\n",
        "    integrand_Q1 = lambda u: np.real((np.exp(-u*k*1j) * cf(u-1j) / (u*1j))  / cf(-1j))\n",
        "    integrand_Q2 = lambda u: np.real(np.exp(-u*k*1j) * cf(u) /(u*1j))\n",
        "\n",
        "    Q1 = 1/2 + 1/np.pi * integrate.quad(integrand_Q1, 1e-9, np.inf )[0]\n",
        "    Q2 = 1/2 + 1/np.pi * integrate.quad(integrand_Q2, 1e-9, np.inf )[0]\n",
        "\n",
        "    if option_type == 'call':\n",
        "        return S * Q1 - K * np.exp(-r*T) * Q2\n",
        "    elif option_type == 'put':\n",
        "        return K * np.exp(-r*T) * (1-Q2) - S * (1-Q1)\n",
        "\n",
        "call_F = fourier_inversion(stock_price, strike_price, risk_free_rate,\n",
        "                                time_to_maturity, volatility, 'call')\n",
        "put_F = fourier_inversion(stock_price, strike_price, risk_free_rate,\n",
        "                                time_to_maturity, volatility, 'put')\n",
        "\n",
        "print(f'Call option price (Fourier):{call_F:.4f}')\n",
        "print(f'Put option price (Fourier):{put_F:.4f}')"
      ],
      "metadata": {
        "colab": {
          "base_uri": "https://localhost:8080/"
        },
        "id": "roEAgjP_Ji8Z",
        "outputId": "4405622f-eee9-441b-ff0c-99416e769129"
      },
      "execution_count": 5,
      "outputs": [
        {
          "output_type": "stream",
          "name": "stdout",
          "text": [
            "Call option price (Fourier):9.8727\n",
            "Put option price (Fourier):2.5272\n"
          ]
        }
      ]
    },
    {
      "cell_type": "markdown",
      "source": [
        "## Technical Note - $N(d_1)$ and $N(d_2)$\n",
        "\n",
        "$N(d_1)$ and $N(d_2)$ are the risk-neutral probabilities of $S_T > K$ under the stock and money market account numeraires, respectively. To see this:\n",
        "\n",
        "\\begin{align*}\n",
        " C(S,K,r,T,\\sigma) &= \\mathbb{E}^{\\mathbb{Q}} \\biggl[ e^{-rT}(S_T - K)^+\\  \\bigg| \\ S \\biggr] \\\\\n",
        "                    &= \\mathbb{E}^{\\mathbb{Q}}\\biggl[ e^{-rT}S_T \\mathbb{1}_{S_T >K}\\ \\bigg|\\ S \\biggr] - Ke^{-rT} \\mathbb{E}^{\\mathbb{Q}}\\biggl[\\mathbb{1}_{S_T >K}\\ \\bigg|\\ S \\biggr] \\\\\n",
        "                    &= S \\mathbb{E}^{\\mathbb{\\tilde{Q}}}\\biggl[\\mathbb{1}_{S_T >K}\\ \\bigg|\\ S \\biggr] - Ke^{-rT} \\mathbb{E}^{\\mathbb{Q}}\\biggl[\\mathbb{1}_{S_T >K}\\ \\bigg|\\ S \\biggr] \\\\\n",
        "                    &= SN(d_1)-Ke^{-rT}N(d_2)\n",
        "\\end{align*}\n",
        "\n",
        "where the measure $\\mathbb{\\tilde{Q}}$ (in which $S_t$ becomes the numeraire) is defined as:\n",
        "\n",
        "$$ \\frac{d \\tilde{\\mathbb{Q}} }{ d \\mathbb{Q} } =  \\frac{S_t}{S e^{rt}} $$\n"
      ],
      "metadata": {
        "id": "9iU2NU8Za4Ma"
      }
    },
    {
      "cell_type": "markdown",
      "source": [
        "## Technical Note - Gil Pelaez formula\n",
        "\n",
        "\\begin{align*}\n",
        "  F_X(x) &= \\frac{1}{2} - \\frac{1}{2\\pi} \\int_{\\mathbb{R}} e^{-iux} \\phi_X(u) \\cdot \\frac{1}{iu} \\, du \\\\\n",
        "         &= \\frac{1}{2} - \\frac{1}{2\\pi} \\int_0^{\\infty} \\biggl(-e^{iux} \\phi_X(-u) + e^{-iux} \\phi_X(u) \\biggr) \\frac{1}{iu} \\, du \\\\\n",
        "         &= \\frac{1}{2} - \\frac{1}{\\pi} \\int_0^{\\infty} \\frac{Im[ e^{-iux} \\phi_X(u) ]}{u} du \\\\\n",
        "         &= \\frac{1}{2} - \\frac{1}{\\pi} \\int_0^{\\infty} Re\\biggl[ \\frac{ e^{-iux} \\phi_X(u)}{iu} \\biggr] du \\\\\n",
        "  f_X(x) &= \\frac{1}{\\pi} \\int_0^{\\infty} Re\\biggl[ e^{-iux} \\phi_X(u) \\biggr] du\n",
        "\\end{align*}"
      ],
      "metadata": {
        "id": "J7X6AloJmsz3"
      }
    }
  ]
}